{
 "cells": [
  {
   "cell_type": "code",
   "execution_count": 22,
   "metadata": {},
   "outputs": [
    {
     "data": {
      "text/plain": [
       "20"
      ]
     },
     "execution_count": 22,
     "metadata": {},
     "output_type": "execute_result"
    }
   ],
   "source": [
    "lamp_edits = {\n",
    "    0: \"I want to rotate the lamp shade upwards\",\n",
    "    1: \"I want to move the legs further out to the left and right.\",\n",
    "    2: \"I want to shorter the lamp chains by moving their bottom ends up.\",\n",
    "    3: \" I want to make the lamp cover shorter in the front-back direction, moving the light bulbs accordingly\",\n",
    "    4: \"I want to make the map shade wider in the four cardinal directions without changing the body or base.\",\n",
    "    5: \"I want to make the lamp body shorter in the up-down direction, making the lamp base thicker as needed.\",\n",
    "    6: \"I want to make the map arm wider in the four cardinal directions. I want to increase the number of lamp heads as we do that.\",\n",
    "    7: \"I want to make the lamp arms shorter, and elongate the lamp heads as needed.\",\n",
    "    8: \"I want to move the lamp arms down, shortening the lamp base accordingly\",\n",
    "    9: \" I want to make the light bulbs bigger without changing other parts of the shape\",\n",
    "    10: \"I want to make the base of the lamp wider in the left-right direction without changing other parts\",\n",
    "    11: \"I want to move the lamp body up, expanding the base as needed.\",\n",
    "    12: \"I want to contract the lamp body from the top, moving the lanp shade and bulb accordingly.\",\n",
    "    13: \"I want to make the lamp shader larger in all the 4 cardinal directions while keeping the other parts fixed.\",\n",
    "    14: \"I want to rotate the upper lamp arms down about their back ends. Please scale the lower arms accordingly and ignore the cord\",\n",
    "    15: \"I want to make the lower lamp arms shorter, and move the other parts accordingly. Please ignore the cord. Keep it as it is.\",\n",
    "    16: \"I want to move the lamp shade towards the back, moving the curved arm as well. However, when required, I want to twist the pole instead of moving it.\",\n",
    "    17: \"I want to make the lamp shade longer be extending its lower end downwards.\",\n",
    "    18: \"I want to lower the number of lamp arm, bulb and covers\",\n",
    "\n",
    "\n",
    "}\n",
    "lamp_tuples = [\n",
    "    (0, 0),\n",
    "    (0, 1),\n",
    "    (1, 2),\n",
    "    (1, 3),\n",
    "    (2, 4),\n",
    "    (2, 5),\n",
    "    (3, 6),\n",
    "    (3, 7),\n",
    "    (4, 8),\n",
    "    (4, 9),\n",
    "    (5, 10),\n",
    "    (5, 11),\n",
    "    (6, 12),\n",
    "    (6, 13),\n",
    "    (7, 14),\n",
    "    (7, 15),\n",
    "    (8, 16),\n",
    "    (8, 17),\n",
    "    (9, 18),\n",
    "    (9, 2),\n",
    "\n",
    "\n",
    "\n",
    "\n",
    "\n",
    "\n",
    "\n",
    "]\n",
    "len(lamp_tuples)\n"
   ]
  },
  {
   "cell_type": "code",
   "execution_count": 23,
   "metadata": {},
   "outputs": [],
   "source": [
    "category = \"Lamp\"\n",
    "with open(f\"../metadata_v1/{category}_edits.txt\", \"w\") as target_file:\n",
    "    for ind, prompt in lamp_edits.items():\n",
    "        target_file.write(f\"{prompt}\\n\")\n",
    "with (open(f\"../metadata_v1/{category}_tuples.txt\", \"w\")) as target_file:\n",
    "    for shape_pair in lamp_tuples:\n",
    "        target_file.write(f\"{shape_pair[0]} {shape_pair[1]}\\n\")"
   ]
  },
  {
   "cell_type": "code",
   "execution_count": 19,
   "metadata": {},
   "outputs": [
    {
     "data": {
      "text/plain": [
       "23"
      ]
     },
     "execution_count": 19,
     "metadata": {},
     "output_type": "execute_result"
    }
   ],
   "source": [
    "table_edits = {\n",
    "    0: \"I want to make the legs shorter from the top.\",\n",
    "    1: \"I want to make the table longer along the back-front direction while keeping the legs as they are.\",\n",
    "    2: \"I want to contract the table top along the left-right direction.\",\n",
    "    3: \"I want to lower the bars between the legs without changing the legs.\",\n",
    "    4: \"I want to bring the legs outwards, rotating the front right leg further to the front-right direction and so on.\",\n",
    "    5: \"I want to make the table wider along the front-back direction, increasing the count of components as required.\",\n",
    "    6: \"I want to move the bark stretchers further outwards, and tilt the legs outwards accourdingly.\",\n",
    "    7: \"I want to make the table top wider in both left-right and front-back directions. I want to increase the number of legs as we do that.\",\n",
    "    8: \"I want to make the table top wider without changing the legs.\",\n",
    "    9: \"I want to make the shelf wider in left-right and front-back directions, without changing the table board.\",\n",
    "    10:\"I want to contract the board along the back-front direction, without changing other parts.\",\n",
    "    11: \"I want to lower the size of the table in the left right direction, removing the legs as required.\",\n",
    "    12: \"I want to make each front legs thicker along the left-right direction.\",\n",
    "    13: \"I want to tilt the back of the top board downwards without chainging the front legs.\",\n",
    "    14: \"I want to move the front legs further inwards (along the left-right direction), scaing the other parts accordingly.\",\n",
    "    15: \"I want to bring the legs closer together (along the left-right direction), but without editing the board.\",\n",
    "    16: \"I want to move the board further upwards. While adjusting the parts, I want to move only the upper shelves up, and not the lower shelves.\",\n",
    "    17: \"I want to make the table top thicker, scaling the other parts accordingly.\",\n",
    "    18: \"I want to move the left panel towards the right direction. Do not change the central panel or the bottom panel.\",\n",
    "    19: \"I want to make the board shorter along the left-right direction. However, I want to tilt the side panels instead of moving them.\",\n",
    "    20: \"I want to move the top drawer outwards, while keeping the other parts as they are.\",\n",
    "    21: \"I want to make the foots taller by moving their top parts upwards. I want to move the drawers, and shelves upwards accordingly as well. However, I want to keep the top board as it is.\",\n",
    "    22: \"I want to extend the top drawer by moving its top part further outwards. Move the shelf accordingly, but do not change the side panels or the board.\"\n",
    "}\n",
    "table_tuples = [\n",
    "    (0, 0),\n",
    "    (0, 1),\n",
    "    (2, 2),\n",
    "    (2, 3),\n",
    "    (3, 5),\n",
    "    (3, 6),\n",
    "    (4, 7),\n",
    "    (4, 8),\n",
    "    (5, 9),\n",
    "    (5, 10),\n",
    "    (6, 11),\n",
    "    (6, 12),\n",
    "    (7, 13),\n",
    "    (7, 14),\n",
    "    (8, 15),\n",
    "    (8, 16),\n",
    "    (9, 9),\n",
    "    (9, 17),\n",
    "    (10, 18),\n",
    "    (10, 19),\n",
    "    (11, 20),\n",
    "    (11, 21),\n",
    "    (11, 22),\n",
    "\n",
    "]\n",
    "len(table_tuples)\n"
   ]
  },
  {
   "cell_type": "code",
   "execution_count": 20,
   "metadata": {},
   "outputs": [],
   "source": [
    "category = \"Table\"\n",
    "with open(f\"../metadata_v1/{category}_edits.txt\", \"w\") as target_file:\n",
    "    for ind, prompt in table_edits.items():\n",
    "        target_file.write(f\"{prompt}\\n\")\n",
    "with (open(f\"../metadata_v1/{category}_tuples.txt\", \"w\")) as target_file:\n",
    "    for shape_pair in table_tuples:\n",
    "        target_file.write(f\"{shape_pair[0]} {shape_pair[1]}\\n\")"
   ]
  },
  {
   "cell_type": "code",
   "execution_count": 15,
   "metadata": {},
   "outputs": [
    {
     "data": {
      "text/plain": [
       "22"
      ]
     },
     "execution_count": 15,
     "metadata": {},
     "output_type": "execute_result"
    }
   ],
   "source": [
    "storage_edits = {\n",
    "    0: \"I want to make the shelves wider\",\n",
    "    1: \"I want to make the bottom panel wider, tilting the side panels outwards as we scale.\",\n",
    "    2: \"I want to open the cabinate doors towards the front.\",\n",
    "    3: \"I want to increase the number of shelves in the cupboard.\",\n",
    "    4: \"I want to move the drawers out towards the front.\",\n",
    "    5: \"I want to make the cupboard wider by enlongating its bottom panel in the back-front direction.\",\n",
    "    6: \"I want to open the front cabinet door rotating it forward about its left face.\",\n",
    "    7: \"I want to contract the storage unit in the left-rigth direction.\",\n",
    "    8: \"I want to bring all the drawers out towards the front without moving the storage unit\",\n",
    "    9: \"I want to bring the foots closer to the center of the storage unit in the left-right direction.\",\n",
    "    10: \"I want to make the storage unit deeper by moving its back panel further towards the back.\",\n",
    "    11: \"I want to make the storage unit taller without moving the shelves inside.\",\n",
    "    12: \"I wamt to make only the top shelf wider.\",\n",
    "    13: \"I want to make the storage unit shorter, removing the shelves as required.\",\n",
    "    14: \"I want to extend the shelves outwards by moving their outward facing faces outwards.\",\n",
    "    15: \"I want to make the storage unit shorter by lowering its top panel, and reducing the distance between the shelves as required.\",\n",
    "    16: \"I want to make the left side panel thicker along the left-right direction.\",\n",
    "    17: \"I want to make the bottom panel wider from the right side. I want to keep the cabinet door and drawer as it is, but scale other parts of the storage unit accordingly.\",\n",
    "    18: \"I want to move the drawer out towards the front, without moving other parts of the storage unit.\"\n",
    "}  \n",
    "storage_tuples = [\n",
    "    (0, 0),\n",
    "    (0, 1),\n",
    "    (1, 2),\n",
    "    (1, 3),\n",
    "    (2, 4),\n",
    "    (2, 5),\n",
    "    (3, 6),\n",
    "    (3, 7),\n",
    "    (4, 8),\n",
    "    (4, 9),\n",
    "    (5, 10),\n",
    "    (5, 0),\n",
    "    (6, 11),\n",
    "    (6, 2),\n",
    "    (7, 12),\n",
    "    (7, 13),\n",
    "    (8, 14),\n",
    "    (8, 15),\n",
    "    (9, 13),\n",
    "    (9, 16),\n",
    "    (10, 17),\n",
    "    (10, 18)\n",
    "\n",
    "]\n",
    "len(storage_tuples)"
   ]
  },
  {
   "cell_type": "code",
   "execution_count": 14,
   "metadata": {},
   "outputs": [],
   "source": [
    "category = \"StorageFurniture\"\n",
    "with open(f\"../metadata_v1/{category}_edits.txt\", \"w\") as target_file:\n",
    "    for ind, prompt in storage_edits.items():\n",
    "        target_file.write(f\"{prompt}\\n\")\n",
    "with (open(f\"../metadata_v1/{category}_tuples.txt\", \"w\")) as target_file:\n",
    "    for shape_pair in storage_tuples:\n",
    "        target_file.write(f\"{shape_pair[0]} {shape_pair[1]}\\n\")"
   ]
  },
  {
   "cell_type": "code",
   "execution_count": 7,
   "metadata": {},
   "outputs": [],
   "source": [
    "bed_edits = {\n",
    "    0 : \"I want to widen the bed in the left-right direction.\",\n",
    "    1 : \"I want to make the bed longer in the front-back direction.\",\n",
    "    2: \"I want to bring the upper bed frame closer to the ground.\", \n",
    "    3 : \"I want to make the bed shorter in the front-back direction.\",\n",
    "    4: \"I want to increase the gap between the lower and upper beds by lengthening the bed posts.\",\n",
    "    5 : \"I want to make the lower bed wider in the left-right direction.\",\n",
    "    6: \" I want to shift the top mattress backwards\",\n",
    "    7: \"I want to lower the front of the top mattress\",\n",
    "    8: \"I want to make the headboards taller my moveing the top halfs upwards.\",\n",
    "    9: \"I want to move the feet of the ladder further to the right\",\n",
    "    10 : \"I want to make the bed taller by lengthening the bed posts. Please do not increase the number of bar stretchers.\",\n",
    "    11: \"I want to make the bed posts thicker (in left-right and front back directions) without changing anything else.\",\n",
    "    12: \" I want to make the ladder wider by moving the back ladder bar forther to the back\",\n",
    "    13: \"I want to move the bed's left side surface further to the left\",\n",
    "    14: \"I want to make the bed's right side surface longer along the back-front direction\",\n",
    "    15: \"I want to make the ladder rungs wider.\",\n",
    "    16: \"I want to bring the horizontal bed frame downwards, scaling the parts below it accordingly.\"\n",
    "    \n",
    "\n",
    "}"
   ]
  },
  {
   "cell_type": "code",
   "execution_count": 10,
   "metadata": {},
   "outputs": [
    {
     "data": {
      "text/plain": [
       "23"
      ]
     },
     "execution_count": 10,
     "metadata": {},
     "output_type": "execute_result"
    }
   ],
   "source": [
    "bed_tuples = [\n",
    "    (0, 0),\n",
    "    (0, 1),\n",
    "    (1, 2),\n",
    "    (1, 3),\n",
    "    (2, 4),\n",
    "    (2, 5),\n",
    "    (3, 4),\n",
    "    (3, 6),\n",
    "    (4, 7),\n",
    "    (4, 8),\n",
    "    (5, 1),\n",
    "    (5, 5),\n",
    "    (6, 9),\n",
    "    (6, 10),\n",
    "    (7, 3),\n",
    "    (7, 11),\n",
    "    (7, 12),\n",
    "    (8, 13),\n",
    "    (8, 14),\n",
    "    (9, 1),\n",
    "    (9, 15),\n",
    "    (10, 16),\n",
    "    (10, 3)\n",
    "\n",
    "]\n",
    "len(bed_tuples)"
   ]
  },
  {
   "cell_type": "code",
   "execution_count": 9,
   "metadata": {},
   "outputs": [],
   "source": [
    "with open(\"../metadata_v1/Bed_edits.txt\", \"w\") as target_file:\n",
    "    for ind, prompt in bed_edits.items():\n",
    "        target_file.write(f\"{prompt}\\n\")\n",
    "with (open(\"../metadata_v1/Bed_tuples.txt\", \"w\")) as target_file:\n",
    "    for shape_pair in bed_tuples:\n",
    "        target_file.write(f\"{shape_pair[0]} {shape_pair[1]}\\n\")"
   ]
  },
  {
   "cell_type": "code",
   "execution_count": 2,
   "metadata": {},
   "outputs": [],
   "source": [
    "import numpy as np\n",
    "# Goal is 5 classes 10 shapes each -> 50 shapes, -> get 2 edits per object -> 100 edits targets.\n",
    "chair_edits = {\n",
    "    0: \"I want to make the front legs shorter without changing the back legs.\",\n",
    "    1: \"I want to move the back legs apart while keeping the front legs in the same place.\",\n",
    "    2: \"I want to make the chair wider\",\n",
    "    3: \"I want to tilt the back of the chair seat downwards.\",\n",
    "    4: \"I want to make the backrest wider while keeping the seat and legs the same.\",\n",
    "    5: \"I want to tilt the front of chair seat downwards.\",\n",
    "    6: \"I want to make the front of the chair seat wider.\",\n",
    "    7: \"I want to make the chair seat thicker.\",\n",
    "    8: \"I want to contract the chair along the left-right direction and tilt the legs inwards.\",\n",
    "    9: \"I want to make the chair wider, increasing the vertical bars on the backrest as we scale.\",\n",
    "    10: \"I want to tilt the armrests downwards.\",\n",
    "    11: \"I want to rotate the backrest backwards.\",\n",
    "    12: \"I want to make the bars between the legs thicker.\",\n",
    "    13: \"I want to increase the number of legs on this swivel chair.\",\n",
    "    14: \"I want to make the armrests taller by extending the top faces of the vertical bars upwards.\",\n",
    "    15: \" I wamt to make the backrest shorter by moving its lower face upwards. Do not change the rest of the chair.\",\n",
    "    16: \"I want to tilt the front legs forwards and back legs backwards.\",\n",
    "    17: \"I want to make the chair shorter by shortening the legs and bringing the rest of the chair downwards.\",\n",
    "    18: \"I want to make only the armrests shorter by lowering their top face.\",\n",
    "    19: \"I want to tilt the top half of the armrests outwards.\",\n",
    "    20: \"I want to make the bar betwee the runners shorter along the left-right direction. Please tilt the legs instead of moving them entirely.\",\n",
    "    21: \"I want to lower the seat of the chair\",\n",
    "    22: \"I want to tilt the armrests outwards. I want to keep the seat unchanged, and taper the backrest as we tilt the armrests.\",\n",
    "    23: \"I want to make the runners shorter along the back-front direction. I wamt to tilt the legs as we scale the runners.\",\n",
    "    24: \"I want to tilt the armrests inwards. As we do this edit, I want to taper the backrest inwards, skewing the legs outwards and lengthening the seat.\",\n",
    "    25: \"I want to shorten the height of the legs, brings the rest of the chair downwards.\",\n",
    "    26: \" I want to make the chair seat wider.\",\n",
    "    27: \"I want to make the chair seat smaller in both left-right and back-front directions. I want to tilt the legs inwards as we perform this edit.\",\n",
    "    28: \"I want to make the chair seat thinner by moving its top donwards and not change any other parts.\"\n",
    "}\n",
    "# Edit types\n",
    "# 1. Clear instruction and few steps. \n",
    "# 2. Clear Instructions many steps\n",
    "# 3. Hard instructions many steps. "
   ]
  },
  {
   "cell_type": "code",
   "execution_count": 1,
   "metadata": {},
   "outputs": [
    {
     "data": {
      "text/plain": [
       "34"
      ]
     },
     "execution_count": 1,
     "metadata": {},
     "output_type": "execute_result"
    }
   ],
   "source": [
    "chair_tuples = [\n",
    "    # (Shape ID, Edit ID)\n",
    "    (0, 0),\n",
    "    (0, 1),\n",
    "    (1, 2),\n",
    "    (1, 3),\n",
    "    (2, 4),\n",
    "    (2, 5),\n",
    "    (3, 6),\n",
    "    (3, 7),\n",
    "    (3, 8),\n",
    "    (4, 9),\n",
    "    (4, 10),\n",
    "    (5, 11),\n",
    "    (5, 12),\n",
    "    (6, 13),\n",
    "    (6, 14),\n",
    "    (7, 15),\n",
    "    (7, 16),\n",
    "    (7, 17),\n",
    "    (8, 18),\n",
    "    (8, 19),\n",
    "    (9, 20),\n",
    "    (9, 21),\n",
    "    (10, 11),\n",
    "    (10, 22),\n",
    "    (11, 23),\n",
    "    (11, 21),\n",
    "    (12, 24),\n",
    "    (12, 7),\n",
    "    (13, 25),\n",
    "    (13, 26),\n",
    "    (14, 27),\n",
    "    (14, 5),\n",
    "    (15, 2),\n",
    "    (15, 28),\n",
    "\n",
    "]\n",
    "len(chair_tuples)"
   ]
  },
  {
   "cell_type": "code",
   "execution_count": 4,
   "metadata": {},
   "outputs": [],
   "source": [
    "with open(\"../metadata_v1/Chair_edits.txt\", \"w\") as target_file:\n",
    "    for ind, prompt in chair_edits.items():\n",
    "        target_file.write(f\"{prompt}\\n\")\n",
    "with (open(\"../metadata_v1/Chair_tuples.txt\", \"w\")) as target_file:\n",
    "    for shape_pair in chair_tuples:\n",
    "        target_file.write(f\"{shape_pair[0]} {shape_pair[1]}\\n\")"
   ]
  },
  {
   "cell_type": "code",
   "execution_count": 24,
   "metadata": {},
   "outputs": [
    {
     "data": {
      "text/plain": [
       "122"
      ]
     },
     "execution_count": 24,
     "metadata": {},
     "output_type": "execute_result"
    }
   ],
   "source": [
    "34 + 23 + 22 + 23 + 20"
   ]
  },
  {
   "cell_type": "code",
   "execution_count": null,
   "metadata": {},
   "outputs": [],
   "source": [
    "# Simple set\n",
    "# Lamp 7\n",
    "lamp = [\n",
    "    0,\n",
    "    2,\n",
    "    4,\n",
    "    9,\n",
    "    11,\n",
    "    17,\n",
    "    18,\n",
    "]\n",
    "# Chair 15\n",
    "chair = [\n",
    "    0,\n",
    "    2,\n",
    "    7,\n",
    "    9,\n",
    "    11, #12\n",
    "    12,\n",
    "    14,\n",
    "    17,\n",
    "    19,\n",
    "    20,#21\n",
    "    22,\n",
    "    25,\n",
    "    28,\n",
    "    29,\n",
    "    32,\n",
    "\n",
    "\n",
    "\n",
    "\n",
    "\n",
    "\n",
    "\n",
    "\n",
    "]"
   ]
  }
 ],
 "metadata": {
  "kernelspec": {
   "display_name": "pfrl2",
   "language": "python",
   "name": "python3"
  },
  "language_info": {
   "codemirror_mode": {
    "name": "ipython",
    "version": 3
   },
   "file_extension": ".py",
   "mimetype": "text/x-python",
   "name": "python",
   "nbconvert_exporter": "python",
   "pygments_lexer": "ipython3",
   "version": "3.10.8"
  }
 },
 "nbformat": 4,
 "nbformat_minor": 2
}

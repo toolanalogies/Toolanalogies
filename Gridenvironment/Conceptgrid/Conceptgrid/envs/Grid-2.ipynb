{
 "cells": [
  {
   "cell_type": "code",
   "execution_count": 1,
   "metadata": {},
   "outputs": [],
   "source": [
    "import numpy as np\n",
    "import matplotlib.pyplot as plt\n",
    "from copy import deepcopy"
   ]
  },
  {
   "cell_type": "code",
   "execution_count": 2,
   "metadata": {},
   "outputs": [],
   "source": [
    "grid_height = 6\n",
    "grid_width = 6\n",
    "objects = {'box', 'wall', 'red_ball', 'green_ball', 'agent'}\n",
    "tile = {'normal', 'lava'}\n",
    "actions = {'up': (0, -1), 'down': (0, 1), 'left': (-1, 0), 'right': (1, 0)}\n",
    "features = [0, 0, 0, 0, 0, 0, 0, 0, 0]\n",
    "features_key = ['id', 'x', 'y', 'controllable', 'rigid', 'movable', 'color', 'shape', 'termination']"
   ]
  },
  {
   "cell_type": "code",
   "execution_count": 3,
   "metadata": {},
   "outputs": [],
   "source": [
    "initial_state={'dimensions': {'height': 3, 'width': 5},\n",
    "               'textiles': {'lava0': {'id': '!', 'x': 4, 'y': 2, 'color': 'orange', 'termination': True}},\n",
    "               'objects': {'wall0': {'id': 'W','x': 1, 'y': 1, 'controllable': False, 'rigid': True, 'movable': False, 'color': 'black', 'shape': 'square', 'termination': False},\n",
    "                           'wall1': {'id': 'W','x': 4, 'y': 0, 'controllable': False, 'rigid': True, 'movable': False, 'color': 'black', 'shape': 'square', 'termination': False},\n",
    "                           'wall2': {'id': 'W','x': 4, 'y': 1, 'controllable': False, 'rigid': True, 'movable': False, 'color': 'black', 'shape': 'square', 'termination': False},\n",
    "                           'wall3': {'id': 'W','x': 4, 'y': 2, 'controllable': False, 'rigid': True, 'movable': False, 'color': 'black', 'shape': 'square', 'termination': False},  \n",
    "                           'red_ball': {'id': 'R','x': 3, 'y': 1, 'controllable': False, 'rigid': True, 'movable': True, 'color': 'red', 'shape': 'round', 'termination': True},\n",
    "                           'red_ball2': {'id': 'R','x': 2, 'y': 0, 'controllable': False, 'rigid': True, 'movable': True, 'color': 'red', 'shape': 'round', 'termination': True},  \n",
    "                           'green_ball': {'id': 'G','x': 3, 'y': 2, 'controllable': False, 'rigid': True, 'movable': True, 'color': 'green', 'shape': 'round', 'termination': True},\n",
    "                           'agent': {'id': 'A','x': 0, 'y': 0, 'controllable': True, 'rigid': True, 'movable': True, 'color': 'blue', 'shape': 'triangle', 'termination': False},\n",
    "                           'box': {'id': 'B','x': 1, 'y': 0, 'controllable': False, 'rigid': True, 'movable': True, 'color': 'brown', 'shape': 'square', 'termination': False}}}"
   ]
  },
  {
   "cell_type": "code",
   "execution_count": 4,
   "metadata": {},
   "outputs": [
    {
     "name": "stdout",
     "output_type": "stream",
     "text": [
      "wall0\n",
      "wall1\n",
      "wall2\n",
      "wall3\n",
      "red_ball\n",
      "red_ball2\n",
      "green_ball\n",
      "agent\n",
      "box\n",
      "{'id': 'W', 'x': 1, 'y': 1, 'controllable': False, 'rigid': True, 'movable': False, 'color': 'black', 'shape': 'square', 'termination': False}\n",
      "{'id': 'W', 'x': 4, 'y': 0, 'controllable': False, 'rigid': True, 'movable': False, 'color': 'black', 'shape': 'square', 'termination': False}\n",
      "{'id': 'W', 'x': 4, 'y': 1, 'controllable': False, 'rigid': True, 'movable': False, 'color': 'black', 'shape': 'square', 'termination': False}\n",
      "{'id': 'W', 'x': 4, 'y': 2, 'controllable': False, 'rigid': True, 'movable': False, 'color': 'black', 'shape': 'square', 'termination': False}\n",
      "{'id': 'R', 'x': 3, 'y': 1, 'controllable': False, 'rigid': True, 'movable': True, 'color': 'red', 'shape': 'round', 'termination': True}\n",
      "{'id': 'R', 'x': 2, 'y': 0, 'controllable': False, 'rigid': True, 'movable': True, 'color': 'red', 'shape': 'round', 'termination': True}\n",
      "{'id': 'G', 'x': 3, 'y': 2, 'controllable': False, 'rigid': True, 'movable': True, 'color': 'green', 'shape': 'round', 'termination': True}\n",
      "{'id': 'A', 'x': 0, 'y': 0, 'controllable': True, 'rigid': True, 'movable': True, 'color': 'blue', 'shape': 'triangle', 'termination': False}\n",
      "{'id': 'B', 'x': 1, 'y': 0, 'controllable': False, 'rigid': True, 'movable': True, 'color': 'brown', 'shape': 'square', 'termination': False}\n",
      "wall0 {'id': 'W', 'x': 1, 'y': 1, 'controllable': False, 'rigid': True, 'movable': False, 'color': 'black', 'shape': 'square', 'termination': False}\n",
      "wall1 {'id': 'W', 'x': 4, 'y': 0, 'controllable': False, 'rigid': True, 'movable': False, 'color': 'black', 'shape': 'square', 'termination': False}\n",
      "wall2 {'id': 'W', 'x': 4, 'y': 1, 'controllable': False, 'rigid': True, 'movable': False, 'color': 'black', 'shape': 'square', 'termination': False}\n",
      "wall3 {'id': 'W', 'x': 4, 'y': 2, 'controllable': False, 'rigid': True, 'movable': False, 'color': 'black', 'shape': 'square', 'termination': False}\n",
      "red_ball {'id': 'R', 'x': 3, 'y': 1, 'controllable': False, 'rigid': True, 'movable': True, 'color': 'red', 'shape': 'round', 'termination': True}\n",
      "red_ball2 {'id': 'R', 'x': 2, 'y': 0, 'controllable': False, 'rigid': True, 'movable': True, 'color': 'red', 'shape': 'round', 'termination': True}\n",
      "green_ball {'id': 'G', 'x': 3, 'y': 2, 'controllable': False, 'rigid': True, 'movable': True, 'color': 'green', 'shape': 'round', 'termination': True}\n",
      "agent {'id': 'A', 'x': 0, 'y': 0, 'controllable': True, 'rigid': True, 'movable': True, 'color': 'blue', 'shape': 'triangle', 'termination': False}\n",
      "box {'id': 'B', 'x': 1, 'y': 0, 'controllable': False, 'rigid': True, 'movable': True, 'color': 'brown', 'shape': 'square', 'termination': False}\n"
     ]
    }
   ],
   "source": [
    "for name in initial_state['objects']:\n",
    "    print(name)\n",
    "\n",
    "for obj in initial_state['objects'].values():\n",
    "    print(obj)\n",
    "\n",
    "for name, obj in initial_state['objects'].items():\n",
    "    print(name, obj)"
   ]
  },
  {
   "cell_type": "code",
   "execution_count": 5,
   "metadata": {},
   "outputs": [],
   "source": [
    "def renderer(state):\n",
    "    grid = np.full((2, state['dimensions']['height'], state['dimensions']['width']), '.', dtype=object)\n",
    "\n",
    "    for value in state['textiles'].values():\n",
    "        grid[0,value['y'],value['x']] = value['id']\n",
    "\n",
    "    for value in state['objects'].values():\n",
    "        grid[1,value['y'],value['x']] = value['id']\n",
    "    return grid"
   ]
  },
  {
   "cell_type": "code",
   "execution_count": 6,
   "metadata": {},
   "outputs": [],
   "source": [
    "def fancy_renderer(state):\n",
    "    grid = renderer(state)\n",
    "    return grid[1] + grid[0]"
   ]
  },
  {
   "cell_type": "code",
   "execution_count": 7,
   "metadata": {},
   "outputs": [
    {
     "name": "stdout",
     "output_type": "stream",
     "text": [
      "[['A.' 'B.' 'R.' '..' 'W.']\n",
      " ['..' 'W.' '..' 'R.' 'W.']\n",
      " ['..' '..' '..' 'G.' 'W!']]\n"
     ]
    }
   ],
   "source": [
    "print(fancy_renderer(initial_state))"
   ]
  },
  {
   "cell_type": "code",
   "execution_count": 8,
   "metadata": {},
   "outputs": [],
   "source": [
    "def moving_boxes(state, action, cur_obj, cur_name):\n",
    "    \n",
    "    next_state = deepcopy(state)\n",
    "    next_state['objects'][cur_name]['x'] += actions[action][0]\n",
    "    next_state['objects'][cur_name]['y'] += actions[action][1]\n",
    "    grid = renderer(state)\n",
    "    tile_char = grid[0,next_state['objects'][cur_name]['y'],next_state['objects'][cur_name]['x']]\n",
    "    obj_char = grid[1,next_state['objects'][cur_name]['y'],next_state['objects'][cur_name]['x']]    \n",
    "    #state['objects'][cur_name]['x'] += actions[action][0]\n",
    "    #state['objects'][cur_name]['y'] += actions[action][1]\n",
    "\n",
    "    if obj_char == '.':\n",
    "        return next_state, True\n",
    "    for name, obj in state['objects'].items():\n",
    "        if obj['id'] == obj_char:\n",
    "            next_obj = obj\n",
    "            next_name = name\n",
    "\n",
    "    if not next_obj['movable']:\n",
    "        return state, False\n",
    "    else:\n",
    "        temp_state, movable_bool = moving_boxes(state, action, next_obj, next_name)\n",
    "\n",
    "\n",
    "    if movable_bool:\n",
    "        temp_state['objects'][cur_name]['x'] += actions[action][0]\n",
    "        temp_state['objects'][cur_name]['y'] += actions[action][1]\n",
    "\n",
    "        return temp_state, True\n",
    "    else:\n",
    "        print('e')\n",
    "        return state, False"
   ]
  },
  {
   "cell_type": "code",
   "execution_count": 9,
   "metadata": {},
   "outputs": [],
   "source": [
    "def step(state, action):\n",
    "    next_state = deepcopy(state)\n",
    "    next_state['objects']['agent']['x'] += actions[action][0]\n",
    "    next_state['objects']['agent']['y'] += actions[action][1]\n",
    "    grid = renderer(state)\n",
    "    done = False\n",
    "    tile_char = grid[0,next_state['objects']['agent']['y'],next_state['objects']['agent']['x']]\n",
    "    obj_char = grid[1,next_state['objects']['agent']['y'],next_state['objects']['agent']['x']]\n",
    "    reward = 0\n",
    "    for tile in state['textiles'].values():\n",
    "        if tile['id'] == tile_char:\n",
    "            done = tile['termination']\n",
    "            if tile['color'] == 'orange':\n",
    "                reward = -1\n",
    "            if done:\n",
    "                return next_state, reward, True\n",
    "\n",
    "    if obj_char == '.':\n",
    "        return next_state, reward, False\n",
    "\n",
    "    for name, obj in state['objects'].items():\n",
    "        if obj['id'] == obj_char:\n",
    "            cur_obj = obj\n",
    "            cur_name = name\n",
    "\n",
    "\n",
    "    if cur_obj['termination']:\n",
    "        if cur_obj['color'] == 'green':\n",
    "            reward = 1\n",
    "        elif cur_obj['color'] == 'red':\n",
    "            reward = -1\n",
    "        return next_state, reward, True\n",
    "    if not cur_obj['movable']:\n",
    "        return state, 0, False\n",
    "    else:\n",
    "        temp_state, movable_bool = moving_boxes(state, action, cur_obj, cur_name)\n",
    "        if movable_bool:\n",
    "            temp_state['objects']['agent']['x'] += actions[action][0]\n",
    "            temp_state['objects']['agent']['y'] += actions[action][1]\n",
    "            return temp_state, 0, False\n",
    "        else:\n",
    "            return state, 0, False\n",
    "        \n",
    "\n",
    "\n",
    "    \n",
    "    \n",
    "    \n",
    "\n",
    "   "
   ]
  },
  {
   "cell_type": "code",
   "execution_count": 10,
   "metadata": {},
   "outputs": [
    {
     "name": "stdout",
     "output_type": "stream",
     "text": [
      "[['.W' '.']\n",
      " ['.' '.']]\n"
     ]
    }
   ],
   "source": [
    "test_arr = np.full((2,2), '.', dtype=object)\n",
    "test_arr[0][0] += \"W\" \n",
    "print(test_arr)"
   ]
  },
  {
   "cell_type": "code",
   "execution_count": 11,
   "metadata": {},
   "outputs": [
    {
     "name": "stdout",
     "output_type": "stream",
     "text": [
      "[['A.' 'B.' 'R.' '..' 'W.']\n",
      " ['..' 'W.' '..' 'R.' 'W.']\n",
      " ['..' '..' '..' 'G.' 'W!']]\n",
      "[['..' 'A.' 'B.' 'R.' 'W.']\n",
      " ['..' 'W.' '..' 'R.' 'W.']\n",
      " ['..' '..' '..' 'G.' 'W!']]\n",
      "e\n",
      "[['..' 'A.' 'B.' 'R.' 'W.']\n",
      " ['..' 'W.' '..' 'R.' 'W.']\n",
      " ['..' '..' '..' 'G.' 'W!']]\n",
      "e\n",
      "[['..' 'A.' 'B.' 'R.' 'W.']\n",
      " ['..' 'W.' '..' 'R.' 'W.']\n",
      " ['..' '..' '..' 'G.' 'W!']]\n",
      "e\n",
      "[['..' 'A.' 'B.' 'R.' 'W.']\n",
      " ['..' 'W.' '..' 'R.' 'W.']\n",
      " ['..' '..' '..' 'G.' 'W!']]\n",
      "False 0\n",
      "[['A.' '..' 'B.' 'R.' 'W.']\n",
      " ['..' 'W.' '..' 'R.' 'W.']\n",
      " ['..' '..' '..' 'G.' 'W!']]\n",
      "False 0\n"
     ]
    }
   ],
   "source": [
    "print(fancy_renderer(initial_state))\n",
    "next_state, reward, done = step(initial_state, 'right')\n",
    "print(fancy_renderer(next_state))\n",
    "\n",
    "next_state, reward, done = step(next_state, 'right')\n",
    "print(fancy_renderer(next_state))\n",
    "\n",
    "next_state, reward, done = step(next_state, 'right')\n",
    "print(fancy_renderer(next_state))\n",
    "\n",
    "next_state, reward, done = step(next_state, 'right')\n",
    "print(fancy_renderer(next_state))\n",
    "print(done,reward)\n",
    "\n",
    "next_state, reward, done = step(next_state, 'left')\n",
    "print(fancy_renderer(next_state))\n",
    "\n",
    "print(done,reward)"
   ]
  },
  {
   "cell_type": "code",
   "execution_count": 12,
   "metadata": {},
   "outputs": [
    {
     "ename": "SyntaxError",
     "evalue": "unexpected EOF while parsing (<ipython-input-12-ea5a0de034b2>, line 1)",
     "output_type": "error",
     "traceback": [
      "\u001b[0;36m  File \u001b[0;32m\"<ipython-input-12-ea5a0de034b2>\"\u001b[0;36m, line \u001b[0;32m1\u001b[0m\n\u001b[0;31m    class Object():\u001b[0m\n\u001b[0m                   ^\u001b[0m\n\u001b[0;31mSyntaxError\u001b[0m\u001b[0;31m:\u001b[0m unexpected EOF while parsing\n"
     ]
    }
   ],
   "source": [
    "class Object():"
   ]
  },
  {
   "cell_type": "code",
   "execution_count": null,
   "metadata": {},
   "outputs": [],
   "source": [
    "class Wall():"
   ]
  },
  {
   "cell_type": "code",
   "execution_count": null,
   "metadata": {},
   "outputs": [],
   "source": [
    "grid = []\n",
    "grid.append(Wall(3,4))\n",
    "grid.append(Wall(3,5))"
   ]
  }
 ],
 "metadata": {
  "kernelspec": {
   "display_name": "Python 3.8.5 ('concept')",
   "language": "python",
   "name": "python3"
  },
  "language_info": {
   "codemirror_mode": {
    "name": "ipython",
    "version": 3
   },
   "file_extension": ".py",
   "mimetype": "text/x-python",
   "name": "python",
   "nbconvert_exporter": "python",
   "pygments_lexer": "ipython3",
   "version": "3.7.7"
  },
  "orig_nbformat": 4,
  "vscode": {
   "interpreter": {
    "hash": "b2a7dfea1f1c2e8bbc26d8181a4ced8afa732d5404e05a24f4586db7354315a3"
   }
  }
 },
 "nbformat": 4,
 "nbformat_minor": 2
}
